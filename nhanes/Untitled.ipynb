{
 "cells": [
  {
   "cell_type": "code",
   "execution_count": 11,
   "id": "1c4b1279-76e8-477d-bbea-f22ea4ae9bb8",
   "metadata": {},
   "outputs": [],
   "source": [
    "import pandas as pd\n",
    "import numpy as np\n",
    "import matplotlib.pyplot as plt"
   ]
  },
  {
   "cell_type": "code",
   "execution_count": 17,
   "id": "36f1035c-4e43-4e65-ad47-e0c255df72d3",
   "metadata": {},
   "outputs": [],
   "source": [
    "demographic = pd.read_sas('/Users/jhli/Documents/umich/mdst/week2/P_DEMO.XPT')\n",
    "diet = pd.read_sas('/Users/jhli/Documents/umich/mdst/week2/P_DR1TOT.XPT')"
   ]
  },
  {
   "cell_type": "code",
   "execution_count": null,
   "id": "2f5c763f-3d12-4962-a2c4-c9ef943b6d86",
   "metadata": {},
   "outputs": [],
   "source": [
    "df = "
   ]
  }
 ],
 "metadata": {
  "kernelspec": {
   "display_name": "Python 3 (ipykernel)",
   "language": "python",
   "name": "python3"
  },
  "language_info": {
   "codemirror_mode": {
    "name": "ipython",
    "version": 3
   },
   "file_extension": ".py",
   "mimetype": "text/x-python",
   "name": "python",
   "nbconvert_exporter": "python",
   "pygments_lexer": "ipython3",
   "version": "3.11.5"
  }
 },
 "nbformat": 4,
 "nbformat_minor": 5
}
